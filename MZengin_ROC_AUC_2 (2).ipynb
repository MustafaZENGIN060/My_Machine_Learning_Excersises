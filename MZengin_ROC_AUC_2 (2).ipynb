{
 "cells": [
  {
   "cell_type": "code",
   "execution_count": 1,
   "id": "605ed027",
   "metadata": {},
   "outputs": [],
   "source": [
    "from sklearn.datasets import make_classification\n",
    "from matplotlib import pyplot as plt\n",
    "from sklearn.linear_model import LogisticRegression\n",
    "from sklearn.model_selection import train_test_split\n",
    "from sklearn.metrics import confusion_matrix\n",
    "import pandas as pd"
   ]
  },
  {
   "cell_type": "code",
   "execution_count": 2,
   "id": "7d97ab98",
   "metadata": {},
   "outputs": [],
   "source": [
    "x,y = make_classification (n_samples = 100,\n",
    "                           n_features= 1,\n",
    "                           n_classes = 2,\n",
    "                           n_clusters_per_class  =1,\n",
    "                           flip_y =0.03,\n",
    "                           n_informative=1,\n",
    "                           n_redundant=0,\n",
    "                           n_repeated=0)\n"
   ]
  },
  {
   "cell_type": "code",
   "execution_count": 3,
   "id": "e4664b5e",
   "metadata": {},
   "outputs": [
    {
     "name": "stdout",
     "output_type": "stream",
     "text": [
      "[[ 1.38549785]\n",
      " [ 1.21859001]\n",
      " [ 0.85880578]\n",
      " [ 0.89667095]\n",
      " [-0.99127229]\n",
      " [ 0.81103149]\n",
      " [-1.01685868]\n",
      " [-0.98425236]\n",
      " [-1.01953289]\n",
      " [-0.99995507]\n",
      " [ 0.46956997]\n",
      " [ 1.24763296]\n",
      " [ 1.441126  ]\n",
      " [ 1.0599279 ]\n",
      " [-0.97276242]\n",
      " [-1.02888605]\n",
      " [-0.96043868]\n",
      " [ 1.18822048]\n",
      " [-1.04677382]\n",
      " [ 0.49735939]\n",
      " [ 1.09275055]\n",
      " [-0.98632496]\n",
      " [-0.97977243]\n",
      " [-0.95771436]\n",
      " [-0.99547931]\n",
      " [ 1.27159316]\n",
      " [ 0.68818852]\n",
      " [-1.00420861]\n",
      " [-1.00231568]\n",
      " [-0.96426787]\n",
      " [-0.97892436]\n",
      " [ 1.8716997 ]\n",
      " [-1.00325602]\n",
      " [-1.01629861]\n",
      " [ 0.97110705]\n",
      " [-0.94855935]\n",
      " [ 0.98456594]\n",
      " [ 1.1856275 ]\n",
      " [-1.02959087]\n",
      " [-0.971547  ]\n",
      " [-0.97122299]\n",
      " [-1.02280535]\n",
      " [ 1.06955971]\n",
      " [ 0.75328335]\n",
      " [-1.03002236]\n",
      " [ 0.74614762]\n",
      " [ 0.66720231]\n",
      " [-1.01840305]\n",
      " [-0.96193969]\n",
      " [-1.03823597]\n",
      " [ 0.29345356]\n",
      " [-0.96159763]\n",
      " [ 1.0103349 ]\n",
      " [-1.02282485]\n",
      " [ 0.75436719]\n",
      " [-1.03930603]\n",
      " [-0.970558  ]\n",
      " [ 1.23089536]\n",
      " [ 0.85036464]\n",
      " [-0.99299778]\n",
      " [ 0.46649629]\n",
      " [-0.93812717]\n",
      " [ 1.45103662]\n",
      " [ 0.59853795]\n",
      " [ 0.72421313]\n",
      " [ 0.57349572]\n",
      " [ 1.03199598]\n",
      " [ 0.8088484 ]\n",
      " [-0.92985431]\n",
      " [ 0.60494535]\n",
      " [-0.98926773]\n",
      " [-0.9958937 ]\n",
      " [-0.97342121]\n",
      " [ 0.66615853]\n",
      " [ 1.38313437]\n",
      " [-0.9809887 ]\n",
      " [-1.03666526]\n",
      " [-0.98941525]\n",
      " [-1.0128608 ]\n",
      " [ 0.89271918]\n",
      " [ 0.70306448]\n",
      " [-1.02939083]\n",
      " [ 0.31201694]\n",
      " [ 1.07658407]\n",
      " [-1.00544974]\n",
      " [-1.00557897]\n",
      " [ 1.72629296]\n",
      " [-1.01114441]\n",
      " [ 0.70842086]\n",
      " [ 1.13530839]\n",
      " [-1.00598846]\n",
      " [ 1.07840088]\n",
      " [ 1.02739329]\n",
      " [ 1.03505668]\n",
      " [ 0.97532234]\n",
      " [-1.03630924]\n",
      " [-1.01801442]\n",
      " [ 0.25267   ]\n",
      " [ 1.41479187]\n",
      " [-1.03093821]]\n"
     ]
    }
   ],
   "source": [
    "print (x)"
   ]
  },
  {
   "cell_type": "code",
   "execution_count": 4,
   "id": "308494cf",
   "metadata": {},
   "outputs": [
    {
     "name": "stdout",
     "output_type": "stream",
     "text": [
      "[1 1 1 1 0 1 0 0 0 0 1 1 1 1 0 0 0 1 0 1 1 0 0 0 0 1 1 0 0 0 0 1 0 0 1 0 1\n",
      " 1 0 0 0 0 1 1 0 1 1 0 0 0 1 0 1 0 1 0 0 1 1 0 1 1 1 1 1 1 1 1 0 1 0 0 0 1\n",
      " 1 0 0 0 0 1 1 0 1 1 0 0 1 0 1 1 0 1 1 1 1 0 0 1 1 0]\n"
     ]
    }
   ],
   "source": [
    "print(y)"
   ]
  },
  {
   "cell_type": "code",
   "execution_count": null,
   "id": "7a2d57c0",
   "metadata": {},
   "outputs": [],
   "source": [
    "#Lets Visualize our Data"
   ]
  },
  {
   "cell_type": "code",
   "execution_count": 5,
   "id": "851342c4",
   "metadata": {},
   "outputs": [
    {
     "data": {
      "image/png": "[encoded data removed]",
      "text/plain": [
       "<Figure size 432x288 with 1 Axes>"
      ]
     },
     "metadata": {
      "needs_background": "light"
     },
     "output_type": "display_data"
    }
   ],
   "source": [
    "\n",
    "plt.scatter (x,y, c=y, cmap=\"rainbow\")\n",
    "plt.title ('Scatterplot of Logistic Regression')\n",
    "plt.show()"
   ]
  },
  {
   "cell_type": "code",
   "execution_count": 6,
   "id": "5156e3f5",
   "metadata": {},
   "outputs": [],
   "source": [
    "X_train, X_test, y_train, y_test = train_test_split (x,y, random_state=60)"
   ]
  },
  {
   "cell_type": "code",
   "execution_count": 7,
   "id": "73686df5",
   "metadata": {},
   "outputs": [
    {
     "data": {
      "text/plain": [
       "(75, 1)"
      ]
     },
     "execution_count": 7,
     "metadata": {},
     "output_type": "execute_result"
    }
   ],
   "source": [
    "X_train.shape"
   ]
  },
  {
   "cell_type": "code",
   "execution_count": 9,
   "id": "448b7bb8",
   "metadata": {},
   "outputs": [
    {
     "data": {
      "text/plain": [
       "LogisticRegression()"
      ]
     },
     "execution_count": 9,
     "metadata": {},
     "output_type": "execute_result"
    }
   ],
   "source": [
    "\n",
    "model = LogisticRegression()\n",
    "model.fit(X_train, y_train)"
   ]
  },
  {
   "cell_type": "code",
   "execution_count": 12,
   "id": "b1db1926",
   "metadata": {},
   "outputs": [
    {
     "data": {
      "text/plain": [
       "array([[3.03780866]])"
      ]
     },
     "execution_count": 12,
     "metadata": {},
     "output_type": "execute_result"
    }
   ],
   "source": [
    "model.coef_"
   ]
  },
  {
   "cell_type": "code",
   "execution_count": 13,
   "id": "cbc0c38e",
   "metadata": {},
   "outputs": [
    {
     "data": {
      "text/plain": [
       "array([0.47944668])"
      ]
     },
     "execution_count": 13,
     "metadata": {},
     "output_type": "execute_result"
    }
   ],
   "source": [
    "model.intercept_"
   ]
  },
  {
   "cell_type": "code",
   "execution_count": null,
   "id": "f12df55f",
   "metadata": {},
   "outputs": [],
   "source": [
    "#Let's make prediction:"
   ]
  },
  {
   "cell_type": "code",
   "execution_count": 15,
   "id": "aeca3177",
   "metadata": {},
   "outputs": [],
   "source": [
    "y_pred= model.predict(X_test)"
   ]
  },
  {
   "cell_type": "code",
   "execution_count": null,
   "id": "0300c9b4",
   "metadata": {},
   "outputs": [],
   "source": [
    "# Confusion Matrix:"
   ]
  },
  {
   "cell_type": "code",
   "execution_count": 16,
   "id": "5e8866c2",
   "metadata": {},
   "outputs": [
    {
     "data": {
      "text/plain": [
       "array([[11,  0],\n",
       "       [ 0, 14]], dtype=int64)"
      ]
     },
     "execution_count": 16,
     "metadata": {},
     "output_type": "execute_result"
    }
   ],
   "source": [
    "confusion_matrix (y_test, y_pred)"
   ]
  },
  {
   "cell_type": "code",
   "execution_count": null,
   "id": "a1a7b910",
   "metadata": {},
   "outputs": [],
   "source": []
  },
  {
   "cell_type": "code",
   "execution_count": null,
   "id": "dd062c60",
   "metadata": {},
   "outputs": [],
   "source": []
  },
  {
   "cell_type": "code",
   "execution_count": null,
   "id": "12983105",
   "metadata": {},
   "outputs": [],
   "source": []
  },
  {
   "cell_type": "code",
   "execution_count": null,
   "id": "6bbf1087",
   "metadata": {},
   "outputs": [],
   "source": []
  },
  {
   "cell_type": "code",
   "execution_count": null,
   "id": "f0101c39",
   "metadata": {},
   "outputs": [],
   "source": []
  },
  {
   "cell_type": "code",
   "execution_count": null,
   "id": "8f2e9b6c",
   "metadata": {},
   "outputs": [],
   "source": []
  },
  {
   "cell_type": "code",
   "execution_count": null,
   "id": "bef79aaa",
   "metadata": {},
   "outputs": [],
   "source": []
  }
 ],
 "metadata": {
  "kernelspec": {
   "display_name": "Python 3",
   "language": "python",
   "name": "python3"
  },
  "language_info": {
   "codemirror_mode": {
    "name": "ipython",
    "version": 3
   },
   "file_extension": ".py",
   "mimetype": "text/x-python",
   "name": "python",
   "nbconvert_exporter": "python",
   "pygments_lexer": "ipython3",
   "version": "3.8.8"
  }
 },
 "nbformat": 4,
 "nbformat_minor": 5
}
